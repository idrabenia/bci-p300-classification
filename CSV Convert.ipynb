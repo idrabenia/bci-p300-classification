{
 "cells": [
  {
   "cell_type": "code",
   "execution_count": 1,
   "id": "e93fcd86",
   "metadata": {},
   "outputs": [],
   "source": [
    "%matplotlib inline"
   ]
  },
  {
   "cell_type": "code",
   "execution_count": 2,
   "id": "198b19c8",
   "metadata": {},
   "outputs": [],
   "source": [
    "%%capture\n",
    "!pip install mne\n",
    "!pip install moabb"
   ]
  },
  {
   "cell_type": "code",
   "execution_count": 3,
   "id": "81379aba",
   "metadata": {},
   "outputs": [],
   "source": [
    "import os\n",
    "import numpy as np\n",
    "import mne\n",
    "import moabb.datasets"
   ]
  },
  {
   "cell_type": "code",
   "execution_count": 4,
   "id": "ecd83865",
   "metadata": {},
   "outputs": [],
   "source": [
    "sampling_rate = 512\n",
    "\n",
    "dataset = moabb.datasets.bi2013a(\n",
    "    NonAdaptive=True,\n",
    "    Adaptive=True,\n",
    "    Training=True,\n",
    "    Online=True,\n",
    ")"
   ]
  },
  {
   "cell_type": "code",
   "execution_count": 5,
   "id": "12b44667",
   "metadata": {},
   "outputs": [
    {
     "name": "stderr",
     "output_type": "stream",
     "text": [
      "Downloading data from 'https://zenodo.org/record/2669187/files/subject02_session01.zip' to file 'C:\\Users\\Ilya.Drabenia\\mne_data\\MNE-braininvaders2013-data\\record\\2669187\\files\\subject02_session01.zip'.\n",
      "SHA256 hash of downloaded file: f55a888da35e2ddcaa54f7c4848989f414636ba52b143b9a3f5a73002973b807\n",
      "Use this value as the 'known_hash' argument of 'pooch.retrieve' to ensure that the file hasn't changed if it is downloaded again in the future.\n",
      "Downloading data from 'https://zenodo.org/record/2669187/files/subject02_session02.zip' to file 'C:\\Users\\Ilya.Drabenia\\mne_data\\MNE-braininvaders2013-data\\record\\2669187\\files\\subject02_session02.zip'.\n",
      "SHA256 hash of downloaded file: 5c2905f913c0e47985ab08dc33fc022535ae9fd7132239f5d6d3a6edd803d472\n",
      "Use this value as the 'known_hash' argument of 'pooch.retrieve' to ensure that the file hasn't changed if it is downloaded again in the future.\n",
      "Downloading data from 'https://zenodo.org/record/2669187/files/subject02_session03.zip' to file 'C:\\Users\\Ilya.Drabenia\\mne_data\\MNE-braininvaders2013-data\\record\\2669187\\files\\subject02_session03.zip'.\n",
      "SHA256 hash of downloaded file: 5fc447214d0b571174044667d8bf56f6b11b4d6cd742684bd91bfadc101db836\n",
      "Use this value as the 'known_hash' argument of 'pooch.retrieve' to ensure that the file hasn't changed if it is downloaded again in the future.\n",
      "Downloading data from 'https://zenodo.org/record/2669187/files/subject02_session04.zip' to file 'C:\\Users\\Ilya.Drabenia\\mne_data\\MNE-braininvaders2013-data\\record\\2669187\\files\\subject02_session04.zip'.\n",
      "SHA256 hash of downloaded file: 9edf0a5aac449be4af78cbcb5b45e215406d3cda96b02646d87023e89a2744c2\n",
      "Use this value as the 'known_hash' argument of 'pooch.retrieve' to ensure that the file hasn't changed if it is downloaded again in the future.\n",
      "Downloading data from 'https://zenodo.org/record/2669187/files/subject02_session05.zip' to file 'C:\\Users\\Ilya.Drabenia\\mne_data\\MNE-braininvaders2013-data\\record\\2669187\\files\\subject02_session05.zip'.\n",
      "SHA256 hash of downloaded file: e31c8eebd1ff0d63f5e1518ccf24dc80a5e3db0caa8ab175db279b8421a4fd93\n",
      "Use this value as the 'known_hash' argument of 'pooch.retrieve' to ensure that the file hasn't changed if it is downloaded again in the future.\n",
      "Downloading data from 'https://zenodo.org/record/2669187/files/subject02_session06.zip' to file 'C:\\Users\\Ilya.Drabenia\\mne_data\\MNE-braininvaders2013-data\\record\\2669187\\files\\subject02_session06.zip'.\n",
      "SHA256 hash of downloaded file: 91f33b925fe49609417135ca27cdb1e117a6bea14d99fc30e91b11c689a8bd34\n",
      "Use this value as the 'known_hash' argument of 'pooch.retrieve' to ensure that the file hasn't changed if it is downloaded again in the future.\n",
      "Downloading data from 'https://zenodo.org/record/2669187/files/subject02_session07.zip' to file 'C:\\Users\\Ilya.Drabenia\\mne_data\\MNE-braininvaders2013-data\\record\\2669187\\files\\subject02_session07.zip'.\n",
      "SHA256 hash of downloaded file: a7821f36145a772fdfb1ea63d18f61727bbb1eb57f55e8898f584892766d763f\n",
      "Use this value as the 'known_hash' argument of 'pooch.retrieve' to ensure that the file hasn't changed if it is downloaded again in the future.\n",
      "Downloading data from 'https://zenodo.org/record/2669187/files/subject02_session08.zip' to file 'C:\\Users\\Ilya.Drabenia\\mne_data\\MNE-braininvaders2013-data\\record\\2669187\\files\\subject02_session08.zip'.\n",
      "SHA256 hash of downloaded file: e1ffb064a3c2cb34e36958fb72769da1aa6d1eccf18d968191135b5e9ecbc903\n",
      "Use this value as the 'known_hash' argument of 'pooch.retrieve' to ensure that the file hasn't changed if it is downloaded again in the future.\n",
      "Downloading data from 'https://zenodo.org/record/2669187/files/subject03_session01.zip' to file 'C:\\Users\\Ilya.Drabenia\\mne_data\\MNE-braininvaders2013-data\\record\\2669187\\files\\subject03_session01.zip'.\n",
      "SHA256 hash of downloaded file: f9cf069fcab457ba8d2bf0e0c20a20ccbb75e7bbf4f88683e57b81862f5378f3\n",
      "Use this value as the 'known_hash' argument of 'pooch.retrieve' to ensure that the file hasn't changed if it is downloaded again in the future.\n",
      "Downloading data from 'https://zenodo.org/record/2669187/files/subject03_session02.zip' to file 'C:\\Users\\Ilya.Drabenia\\mne_data\\MNE-braininvaders2013-data\\record\\2669187\\files\\subject03_session02.zip'.\n",
      "SHA256 hash of downloaded file: 838a76c69c5542382d389f4186bf147a5218e23da7584ff3232d7c5d3ee96af4\n",
      "Use this value as the 'known_hash' argument of 'pooch.retrieve' to ensure that the file hasn't changed if it is downloaded again in the future.\n",
      "Downloading data from 'https://zenodo.org/record/2669187/files/subject03_session03.zip' to file 'C:\\Users\\Ilya.Drabenia\\mne_data\\MNE-braininvaders2013-data\\record\\2669187\\files\\subject03_session03.zip'.\n",
      "SHA256 hash of downloaded file: c6cfbdac6a74ccdbfbb14427a47a694bd573435d7ec95244243bacef24154bef\n",
      "Use this value as the 'known_hash' argument of 'pooch.retrieve' to ensure that the file hasn't changed if it is downloaded again in the future.\n",
      "Downloading data from 'https://zenodo.org/record/2669187/files/subject03_session04.zip' to file 'C:\\Users\\Ilya.Drabenia\\mne_data\\MNE-braininvaders2013-data\\record\\2669187\\files\\subject03_session04.zip'.\n",
      "SHA256 hash of downloaded file: e56609538aa05cbf79914da91b8b02c4d97c7fce9286e4dffae168b75a235b7c\n",
      "Use this value as the 'known_hash' argument of 'pooch.retrieve' to ensure that the file hasn't changed if it is downloaded again in the future.\n",
      "Downloading data from 'https://zenodo.org/record/2669187/files/subject03_session05.zip' to file 'C:\\Users\\Ilya.Drabenia\\mne_data\\MNE-braininvaders2013-data\\record\\2669187\\files\\subject03_session05.zip'.\n",
      "SHA256 hash of downloaded file: 12fa2422dfd6ce925504570c931cdcd54c75daa147ec6207285e3fb84606fc39\n",
      "Use this value as the 'known_hash' argument of 'pooch.retrieve' to ensure that the file hasn't changed if it is downloaded again in the future.\n",
      "Downloading data from 'https://zenodo.org/record/2669187/files/subject03_session06.zip' to file 'C:\\Users\\Ilya.Drabenia\\mne_data\\MNE-braininvaders2013-data\\record\\2669187\\files\\subject03_session06.zip'.\n",
      "SHA256 hash of downloaded file: 973e49dacb38007562ceb5721794cbef8339e5f4f7bc501c1b17ffe89933f91b\n",
      "Use this value as the 'known_hash' argument of 'pooch.retrieve' to ensure that the file hasn't changed if it is downloaded again in the future.\n",
      "Downloading data from 'https://zenodo.org/record/2669187/files/subject03_session07.zip' to file 'C:\\Users\\Ilya.Drabenia\\mne_data\\MNE-braininvaders2013-data\\record\\2669187\\files\\subject03_session07.zip'.\n",
      "SHA256 hash of downloaded file: 9b961c1398a6e7497775c038b5dba8bebd8779b2ee2c7e0b652ab9f9b508ef0d\n",
      "Use this value as the 'known_hash' argument of 'pooch.retrieve' to ensure that the file hasn't changed if it is downloaded again in the future.\n",
      "Downloading data from 'https://zenodo.org/record/2669187/files/subject03_session08.zip' to file 'C:\\Users\\Ilya.Drabenia\\mne_data\\MNE-braininvaders2013-data\\record\\2669187\\files\\subject03_session08.zip'.\n",
      "SHA256 hash of downloaded file: 10d88131acbf3400d23a61827d0a70c42114e62bf8cb80ebaaaa34c44fe0bb98\n",
      "Use this value as the 'known_hash' argument of 'pooch.retrieve' to ensure that the file hasn't changed if it is downloaded again in the future.\n"
     ]
    }
   ],
   "source": [
    "%%capture\n",
    "dataset.download(subject_list=[1, 2, 3])"
   ]
  },
  {
   "cell_type": "code",
   "execution_count": 6,
   "id": "7e8f0301",
   "metadata": {},
   "outputs": [],
   "source": [
    "data = dataset.get_data(subjects=[1, 2, 3])"
   ]
  },
  {
   "cell_type": "code",
   "execution_count": 7,
   "id": "6f8a826f",
   "metadata": {},
   "outputs": [
    {
     "name": "stdout",
     "output_type": "stream",
     "text": [
      "<Info | 8 non-empty values\n",
      " bads: []\n",
      " ch_names: Fp1, Fp2, F5, AFz, F6, T7, Cz, T8, P7, P3, Pz, P4, P8, O1, Oz, ...\n",
      " chs: 16 EEG, 1 Stimulus\n",
      " custom_ref_applied: False\n",
      " dig: 19 items (3 Cardinal, 16 EEG)\n",
      " highpass: 0.0 Hz\n",
      " lowpass: 256.0 Hz\n",
      " meas_date: unspecified\n",
      " nchan: 17\n",
      " projs: []\n",
      " sfreq: 512.0 Hz\n",
      ">\n"
     ]
    }
   ],
   "source": [
    "runs_list = []\n",
    "\n",
    "for subject_idx in range(1, 4):\n",
    "    for session_id in data[subject_idx].keys():\n",
    "        cur_session = data[subject_idx][session_id]\n",
    "\n",
    "        for run_id in cur_session:\n",
    "            cur_run = cur_session[run_id]\n",
    "            runs_list.append(cur_run)\n",
    "\n",
    "raw = mne.concatenate_raws(runs_list)\n",
    "\n",
    "print(raw.info)"
   ]
  },
  {
   "cell_type": "code",
   "execution_count": 8,
   "id": "74e4c254",
   "metadata": {},
   "outputs": [
    {
     "name": "stdout",
     "output_type": "stream",
     "text": [
      "Filtering raw data in 96 contiguous segments\n",
      "Setting up high-pass filter at 1 Hz\n",
      "\n",
      "FIR filter parameters\n",
      "---------------------\n",
      "Designing a one-pass, zero-phase, non-causal highpass filter:\n",
      "- Windowed time-domain design (firwin) method\n",
      "- Hamming window with 0.0194 passband ripple and 53 dB stopband attenuation\n",
      "- Lower passband edge: 1.00\n",
      "- Lower transition bandwidth: 1.00 Hz (-6 dB cutoff frequency: 0.50 Hz)\n",
      "- Filter length: 1691 samples (3.303 sec)\n",
      "\n"
     ]
    },
    {
     "name": "stderr",
     "output_type": "stream",
     "text": [
      "[Parallel(n_jobs=1)]: Using backend SequentialBackend with 1 concurrent workers.\n",
      "[Parallel(n_jobs=1)]: Done   1 out of   1 | elapsed:    0.0s remaining:    0.0s\n",
      "[Parallel(n_jobs=1)]: Done   2 out of   2 | elapsed:    0.0s remaining:    0.0s\n",
      "[Parallel(n_jobs=1)]: Done   3 out of   3 | elapsed:    0.0s remaining:    0.0s\n",
      "[Parallel(n_jobs=1)]: Done   4 out of   4 | elapsed:    0.0s remaining:    0.0s\n",
      "[Parallel(n_jobs=1)]: Done  16 out of  16 | elapsed:    0.2s finished\n"
     ]
    },
    {
     "data": {
      "text/html": [
       "<table class=\"table table-hover table-striped table-sm table-responsive small\">\n",
       "    <tr>\n",
       "        <th>Measurement date</th>\n",
       "        \n",
       "        <td>Unknown</td>\n",
       "        \n",
       "    </tr>\n",
       "    <tr>\n",
       "        <th>Experimenter</th>\n",
       "        \n",
       "        <td>Unknown</td>\n",
       "        \n",
       "    </tr>\n",
       "        <th>Participant</th>\n",
       "        \n",
       "        <td>Unknown</td>\n",
       "        \n",
       "    </tr>\n",
       "    <tr>\n",
       "        <th>Digitized points</th>\n",
       "        \n",
       "        <td>19 points</td>\n",
       "        \n",
       "    </tr>\n",
       "    <tr>\n",
       "        <th>Good channels</th>\n",
       "        <td>16 EEG, 1 Stimulus</td>\n",
       "    </tr>\n",
       "    <tr>\n",
       "        <th>Bad channels</th>\n",
       "        <td>None</td>\n",
       "    </tr>\n",
       "    <tr>\n",
       "        <th>EOG channels</th>\n",
       "        <td>Not available</td>\n",
       "    </tr>\n",
       "    <tr>\n",
       "        <th>ECG channels</th>\n",
       "        <td>Not available</td>\n",
       "    \n",
       "    <tr>\n",
       "        <th>Sampling frequency</th>\n",
       "        <td>512.00 Hz</td>\n",
       "    </tr>\n",
       "    \n",
       "    \n",
       "    <tr>\n",
       "        <th>Highpass</th>\n",
       "        <td>1.00 Hz</td>\n",
       "    </tr>\n",
       "    \n",
       "    \n",
       "    <tr>\n",
       "        <th>Lowpass</th>\n",
       "        <td>256.00 Hz</td>\n",
       "    </tr>\n",
       "    \n",
       "    \n",
       "    \n",
       "    <tr>\n",
       "        <th>Duration</th>\n",
       "        <td>06:49:17 (HH:MM:SS)</td>\n",
       "    </tr>\n",
       "</table>"
      ],
      "text/plain": [
       "<RawArray | 17 x 12573024 (24556.7 s), ~1.59 GB, data loaded>"
      ]
     },
     "execution_count": 8,
     "metadata": {},
     "output_type": "execute_result"
    }
   ],
   "source": [
    "raw.filter(l_freq=1., h_freq=None)"
   ]
  },
  {
   "cell_type": "code",
   "execution_count": 9,
   "id": "394219ab",
   "metadata": {},
   "outputs": [
    {
     "name": "stdout",
     "output_type": "stream",
     "text": [
      "33768 events found\n",
      "Event IDs: [33285 33286]\n",
      "[[41744     0 33285]\n",
      " [42042     0 33286]\n",
      " [42147     0 33286]\n",
      " [42265     0 33286]\n",
      " [42435     0 33286]\n",
      " [42588     0 33286]\n",
      " [42854     0 33286]\n",
      " [42998     0 33285]\n",
      " [43229     0 33286]\n",
      " [43323     0 33286]]\n"
     ]
    }
   ],
   "source": [
    "events = mne.find_events(raw, stim_channel='STI 014')\n",
    "print(events[:10])"
   ]
  },
  {
   "cell_type": "code",
   "execution_count": 10,
   "id": "e4043236",
   "metadata": {},
   "outputs": [],
   "source": [
    "event_dict = {'NonTarget': 33286, 'Target': 33285}"
   ]
  },
  {
   "cell_type": "code",
   "execution_count": 11,
   "id": "1018f3a4",
   "metadata": {},
   "outputs": [],
   "source": [
    "reject_criteria = dict(#mag=4000e-15,    \n",
    "                       #grad=4000e-13,    \n",
    "                       eeg=150e-6,     \n",
    "                       #eog=250e-6\n",
    "                       )  \n"
   ]
  },
  {
   "cell_type": "code",
   "execution_count": 12,
   "id": "f4275b68",
   "metadata": {},
   "outputs": [],
   "source": [
    "%%capture\n",
    "epochs = mne.Epochs(raw, events, event_id=event_dict, tmin=-0.1, tmax=0.9, decim=5,\n",
    "                    preload=True, baseline=(0, 0), reject=reject_criteria)"
   ]
  },
  {
   "cell_type": "markdown",
   "id": "db75a18d",
   "metadata": {},
   "source": [
    "## Export Epochs to CSV"
   ]
  },
  {
   "cell_type": "code",
   "execution_count": 13,
   "id": "f0ddf2e5",
   "metadata": {},
   "outputs": [],
   "source": [
    "epochs.to_data_frame().to_csv('./data/epochs.csv')"
   ]
  }
 ],
 "metadata": {
  "kernelspec": {
   "display_name": "Python 3 (ipykernel)",
   "language": "python",
   "name": "python3"
  },
  "language_info": {
   "codemirror_mode": {
    "name": "ipython",
    "version": 3
   },
   "file_extension": ".py",
   "mimetype": "text/x-python",
   "name": "python",
   "nbconvert_exporter": "python",
   "pygments_lexer": "ipython3",
   "version": "3.10.8"
  }
 },
 "nbformat": 4,
 "nbformat_minor": 5
}
